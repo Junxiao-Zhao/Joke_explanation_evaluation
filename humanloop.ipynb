{
 "cells": [
  {
   "cell_type": "code",
   "id": "initial_id",
   "metadata": {
    "collapsed": true,
    "ExecuteTime": {
     "end_time": "2024-05-27T04:39:26.105798Z",
     "start_time": "2024-05-27T04:39:21.446792Z"
    }
   },
   "source": [
    "# Example usage of humanloop\n",
    "import os\n",
    "from humanloop import Humanloop\n",
    "HUMANLOOP_API_KEY = os.getenv(\"HUMANLOOP_API_KEY\")\n",
    "OPENAI_API_KEY = os.getenv(\"OPENAI_API_KEY\")\n",
    "\n",
    "humanloop = Humanloop(api_key=HUMANLOOP_API_KEY)\n",
    "\n",
    "response = humanloop.chat_deployed(\n",
    "    project=\"Petkeley\",\n",
    "    inputs={\n",
    "        \"joke\": \"Q: Why was the broom late? A: It over swept!\"\n",
    "    },\n",
    "    messages=[],\n",
    "    provider_api_keys={\n",
    "        \"openai\": OPENAI_API_KEY\n",
    "    }\n",
    ")\n",
    "\n",
    "print(response.data[0].output)\n"
   ],
   "outputs": [
    {
     "name": "stdout",
     "output_type": "stream",
     "text": [
      "{\"Explanation\": \"The joke plays on the word 'swept' which relates to the broom's function of sweeping. The humor arises from the pun created by replacing 'slept', which would be a common reason for a person to be late, with 'swept', tying the reason of being late to what a broom does.\", \"Humor\": \"Pun\"}\n"
     ]
    }
   ],
   "execution_count": 1
  },
  {
   "metadata": {
    "ExecuteTime": {
     "end_time": "2024-05-27T05:36:24.130113Z",
     "start_time": "2024-05-27T05:36:24.113560Z"
    }
   },
   "cell_type": "code",
   "source": [
    "# read the joke from jokes.csv\n",
    "import pandas as pd\n",
    "\n",
    "jokes = pd.read_csv(r'data/jokes.csv')\n",
    "\n",
    "# get all the jokes from column 'joke'\n",
    "jokes = jokes['joke'].to_list()\n",
    "print(len(jokes))\n"
   ],
   "id": "2f00a9e395c41684",
   "outputs": [
    {
     "name": "stdout",
     "output_type": "stream",
     "text": [
      "352\n"
     ]
    }
   ],
   "execution_count": 14
  },
  {
   "metadata": {
    "ExecuteTime": {
     "end_time": "2024-05-27T05:34:34.643581Z",
     "start_time": "2024-05-27T05:19:19.959955Z"
    }
   },
   "cell_type": "code",
   "source": [
    "from humanloop import Humanloop\n",
    "import ast\n",
    "\n",
    "def extract_gpt_output(response):\n",
    "    # change the response into a dictionary\n",
    "    try:\n",
    "        gpt_output = response.data[0].output\n",
    "        gpt_output = ast.literal_eval(gpt_output)\n",
    "        return gpt_output\n",
    "    except:\n",
    "        print(f'invalid response: {response.data[0].output}')\n",
    "    \n",
    "\n",
    "humanloop = Humanloop(api_key=HUMANLOOP_API_KEY)\n",
    "results = [] # [(explanation, humor category), ...]\n",
    "\n",
    "for joke in jokes:\n",
    "    response = humanloop.chat_deployed(\n",
    "        project=\"Petkeley\",\n",
    "        inputs={\n",
    "            \"joke\": f'{joke}'\n",
    "        },\n",
    "        messages=[],\n",
    "        provider_api_keys={\n",
    "            \"openai\": OPENAI_API_KEY\n",
    "        }\n",
    "    )\n",
    "    gpt_output = extract_gpt_output(response)\n",
    "    \n",
    "    if gpt_output:\n",
    "        results.append((gpt_output['Explanation'], gpt_output['Humor']))\n",
    "    \n",
    "    "
   ],
   "id": "e48d2384364a7365",
   "outputs": [],
   "execution_count": 10
  },
  {
   "metadata": {
    "ExecuteTime": {
     "end_time": "2024-05-27T05:34:34.659135Z",
     "start_time": "2024-05-27T05:34:34.646597Z"
    }
   },
   "cell_type": "code",
   "source": "print(len(results))",
   "id": "885d550374aa2e31",
   "outputs": [
    {
     "name": "stdout",
     "output_type": "stream",
     "text": [
      "352\n"
     ]
    }
   ],
   "execution_count": 11
  },
  {
   "metadata": {
    "ExecuteTime": {
     "end_time": "2024-05-27T05:35:33.301348Z",
     "start_time": "2024-05-27T05:35:33.277110Z"
    }
   },
   "cell_type": "code",
   "source": [
    "# save the results to a csv file\n",
    "results_df = pd.DataFrame(results, columns=['Explanation', 'Humor'])\n",
    "results_df.to_csv('data/gpt4turbo_explained_full.csv', index=False)"
   ],
   "id": "3d2831126064383",
   "outputs": [],
   "execution_count": 12
  },
  {
   "metadata": {
    "ExecuteTime": {
     "end_time": "2024-05-27T05:35:35.099252Z",
     "start_time": "2024-05-27T05:35:35.079420Z"
    }
   },
   "cell_type": "code",
   "source": [
    "# show the number of each different kind of humor\n",
    "results_df['Humor'].value_counts()\n"
   ],
   "id": "120294dc1ce504c4",
   "outputs": [
    {
     "data": {
      "text/plain": [
       "Humor\n",
       "Pun           332\n",
       "Wordplay       10\n",
       "Absurd          4\n",
       "Irony           2\n",
       "Analogy         1\n",
       "Twist           1\n",
       "Literal         1\n",
       "Anti-humor      1\n",
       "Name: count, dtype: int64"
      ]
     },
     "execution_count": 13,
     "metadata": {},
     "output_type": "execute_result"
    }
   ],
   "execution_count": 13
  }
 ],
 "metadata": {
  "kernelspec": {
   "display_name": "Python 3",
   "language": "python",
   "name": "python3"
  },
  "language_info": {
   "codemirror_mode": {
    "name": "ipython",
    "version": 2
   },
   "file_extension": ".py",
   "mimetype": "text/x-python",
   "name": "python",
   "nbconvert_exporter": "python",
   "pygments_lexer": "ipython2",
   "version": "2.7.6"
  }
 },
 "nbformat": 4,
 "nbformat_minor": 5
}
