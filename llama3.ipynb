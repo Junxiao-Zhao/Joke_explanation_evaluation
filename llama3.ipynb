{
 "cells": [
  {
   "cell_type": "code",
   "id": "initial_id",
   "metadata": {
    "collapsed": true,
    "ExecuteTime": {
     "end_time": "2024-05-29T06:05:03.373454Z",
     "start_time": "2024-05-29T06:05:03.353525Z"
    }
   },
   "source": [
    "import os\n",
    "from humanloop import Humanloop\n",
    "import pandas as pd\n",
    "HUMANLOOP_API_KEY = os.getenv(\"HUMANLOOP_API_KEY\")\n",
    "OPENAI_API_KEY = os.getenv(\"OPENAI_API_KEY\")\n",
    "\n",
    "humanloop = Humanloop(api_key=HUMANLOOP_API_KEY)\n",
    "\n",
    "test_set = pd.read_csv(r\"data/test.csv\")\n",
    "jokes = test_set[\"joke\"].tolist()\n",
    "print(len(jokes))"
   ],
   "outputs": [
    {
     "name": "stdout",
     "output_type": "stream",
     "text": [
      "50\n"
     ]
    }
   ],
   "execution_count": 2
  },
  {
   "metadata": {
    "ExecuteTime": {
     "end_time": "2024-05-29T06:10:00.594726Z",
     "start_time": "2024-05-29T06:10:00.573728Z"
    }
   },
   "cell_type": "code",
   "source": [
    "# create a result_pd that has 5 columns: joke, explanation, zero-shot, one-shot, five-shot\n",
    "result_pd = pd.DataFrame(columns=[\"joke\", \"explanation\", \"zero-shot\", \"one-shot\", \"five-shot\"])\n",
    "result_pd[\"joke\"] = jokes\n",
    "result_pd[\"explanation\"] = test_set[\"explaination\"]\n"
   ],
   "id": "5b65287db898460b",
   "outputs": [],
   "execution_count": 6
  },
  {
   "metadata": {
    "ExecuteTime": {
     "end_time": "2024-05-29T06:39:04.908891Z",
     "start_time": "2024-05-29T06:39:04.889797Z"
    }
   },
   "cell_type": "code",
   "source": [
    "import ast\n",
    "def extract_output(response):\n",
    "    # change the response into a dictionary\n",
    "    try:\n",
    "        gpt_output = response.data[0].output\n",
    "        gpt_output = ast.literal_eval(gpt_output)\n",
    "        return gpt_output\n",
    "    except:\n",
    "        print(f'invalid response: {response.data[0].output}')\n",
    "        return response.data[0].output"
   ],
   "id": "9fabfc91dc2cad0c",
   "outputs": [],
   "execution_count": 26
  },
  {
   "metadata": {
    "ExecuteTime": {
     "end_time": "2024-05-29T06:23:38.249771Z",
     "start_time": "2024-05-29T06:22:08.973966Z"
    }
   },
   "cell_type": "code",
   "source": [
    "# zero-shot\n",
    "result_zeroshot = []\n",
    "for joke in jokes:\n",
    "    response = humanloop.chat_deployed(\n",
    "        project=\"Petkeley\",\n",
    "        inputs={\n",
    "            \"joke\": f'{joke}'\n",
    "        },\n",
    "        messages=[]\n",
    "    )\n",
    "    \n",
    "    output = extract_output(response)\n",
    "    if output:\n",
    "        result_zeroshot.append(output[\"Explanation\"])"
   ],
   "id": "f9af1fbc3883ecd6",
   "outputs": [],
   "execution_count": 12
  },
  {
   "metadata": {
    "ExecuteTime": {
     "end_time": "2024-05-29T06:27:41.786309Z",
     "start_time": "2024-05-29T06:27:41.767263Z"
    }
   },
   "cell_type": "code",
   "source": "result_pd[\"zero-shot\"] = result_zeroshot",
   "id": "b275900c43e62212",
   "outputs": [],
   "execution_count": 17
  },
  {
   "metadata": {},
   "cell_type": "code",
   "source": [
    "# one-shot\n",
    "result_oneshot = []\n",
    "for joke in jokes:\n",
    "    response = humanloop.chat_deployed(\n",
    "        project=\"Petkeley\",\n",
    "        inputs={\n",
    "            \"joke\": f'{joke}'\n",
    "        },\n",
    "        messages=[]\n",
    "    )\n",
    "    \n",
    "    output = extract_output(response)\n",
    "    if output:\n",
    "        result_oneshot.append(output[\"Explanation\"])"
   ],
   "id": "c66d6d0e57885e41",
   "outputs": [],
   "execution_count": null
  },
  {
   "metadata": {
    "ExecuteTime": {
     "end_time": "2024-05-29T06:35:40.139396Z",
     "start_time": "2024-05-29T06:35:40.129794Z"
    }
   },
   "cell_type": "code",
   "source": "result_pd[\"one-shot\"] = result_oneshot",
   "id": "b19f95df99bf1b51",
   "outputs": [],
   "execution_count": 23
  },
  {
   "metadata": {},
   "cell_type": "code",
   "source": [
    "# five-shot\n",
    "result_fiveshot = []\n",
    "for joke in jokes:\n",
    "    response = humanloop.chat_deployed(\n",
    "        project=\"Petkeley\",\n",
    "        inputs={\n",
    "            \"joke\": f'{joke}'\n",
    "        },\n",
    "        messages=[]\n",
    "    )\n",
    "    \n",
    "    output = extract_output(response)\n",
    "    try:\n",
    "        result_fiveshot.append(output[\"Explanation\"])\n",
    "    except:\n",
    "        result_fiveshot.append(output)"
   ],
   "id": "42d247d79bb0b6e2",
   "outputs": [],
   "execution_count": null
  },
  {
   "metadata": {
    "ExecuteTime": {
     "end_time": "2024-05-29T06:45:35.237766Z",
     "start_time": "2024-05-29T06:45:35.224199Z"
    }
   },
   "cell_type": "code",
   "source": [
    "print(len(result_fiveshot))\n",
    "result_pd[\"five-shot\"] = result_fiveshot"
   ],
   "id": "3da12acf9a391b76",
   "outputs": [
    {
     "name": "stdout",
     "output_type": "stream",
     "text": [
      "50\n"
     ]
    }
   ],
   "execution_count": 29
  },
  {
   "metadata": {
    "ExecuteTime": {
     "end_time": "2024-05-29T06:46:04.483884Z",
     "start_time": "2024-05-29T06:46:04.464213Z"
    }
   },
   "cell_type": "code",
   "source": [
    "# save the result_pd to a csv file\n",
    "result_pd.to_csv(\"data/eval-llama3.csv\", index=False)"
   ],
   "id": "7a53272f983bb7b3",
   "outputs": [],
   "execution_count": 30
  }
 ],
 "metadata": {
  "kernelspec": {
   "display_name": "Python 3",
   "language": "python",
   "name": "python3"
  },
  "language_info": {
   "codemirror_mode": {
    "name": "ipython",
    "version": 2
   },
   "file_extension": ".py",
   "mimetype": "text/x-python",
   "name": "python",
   "nbconvert_exporter": "python",
   "pygments_lexer": "ipython2",
   "version": "2.7.6"
  }
 },
 "nbformat": 4,
 "nbformat_minor": 5
}
