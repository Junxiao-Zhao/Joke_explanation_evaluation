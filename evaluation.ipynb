{
 "cells": [
  {
   "cell_type": "code",
   "execution_count": 1,
   "metadata": {},
   "outputs": [],
   "source": [
    "from collections import defaultdict\n",
    "\n",
    "import torch\n",
    "import numpy as np\n",
    "import pandas as pd\n",
    "import matplotlib.pyplot as plt\n",
    "import matplotlib.patches as mpatches\n",
    "from torch.nn.functional import cosine_similarity\n",
    "from evaluate import load\n",
    "from sentence_transformers import SentenceTransformer"
   ]
  },
  {
   "cell_type": "markdown",
   "metadata": {},
   "source": [
    "## Evaluate & Plot"
   ]
  },
  {
   "cell_type": "code",
   "execution_count": 2,
   "metadata": {},
   "outputs": [
    {
     "data": {
      "application/vnd.jupyter.widget-view+json": {
       "model_id": "2537ba06c08a4321b6bc00e45936eab9",
       "version_major": 2,
       "version_minor": 0
      },
      "text/plain": [
       "Downloading builder script:   0%|          | 0.00/7.95k [00:00<?, ?B/s]"
      ]
     },
     "metadata": {},
     "output_type": "display_data"
    }
   ],
   "source": [
    "bertscore = load(\"bertscore\")"
   ]
  },
  {
   "cell_type": "code",
   "execution_count": 8,
   "metadata": {},
   "outputs": [],
   "source": [
    "llama2_df = pd.read_csv('./data/eval-Llama2.csv')\n",
    "llama3_df = pd.read_csv('./data/eval-llama3.csv')\n",
    "gemma_df = pd.read_csv('./data/eval-gemma.csv')\n",
    "mistral_df = pd.read_csv('./data/eval-Mistral.csv')"
   ]
  },
  {
   "cell_type": "code",
   "execution_count": 9,
   "metadata": {},
   "outputs": [],
   "source": [
    "def get_bertscore(df):\n",
    "\n",
    "    combined = {}\n",
    "    for shot in ['zero-shot', 'one-shot', 'five-shot']:\n",
    "        results = bertscore.compute(predictions=df[shot],\n",
    "                                    references=df['explanation'],\n",
    "                                    lang='en')\n",
    "        results.pop('hashcode', None)\n",
    "        [combined.update({f\"{shot}-{k}\": v}) for k, v in results.items()]\n",
    "\n",
    "    return pd.DataFrame(combined)\n",
    "\n",
    "\n",
    "def sentence_transformer_score(df, model_name):\n",
    "\n",
    "    model = SentenceTransformer(model_name)\n",
    "    true_embedding = model.encode(df['explanation'].values,\n",
    "                                  convert_to_tensor=True)\n",
    "    combined = {}\n",
    "    for shot in ['zero-shot', 'one-shot', 'five-shot']:\n",
    "        combined[shot] = cosine_similarity(\n",
    "            true_embedding,\n",
    "            model.encode(df[shot].values,\n",
    "                         convert_to_tensor=True)).flatten().cpu().numpy()\n",
    "\n",
    "    return pd.DataFrame(combined)"
   ]
  },
  {
   "cell_type": "code",
   "execution_count": 4,
   "metadata": {},
   "outputs": [],
   "source": [
    "df_ls = [llama2_df, llama3_df, gemma_df, mistral_df]"
   ]
  },
  {
   "cell_type": "code",
   "execution_count": 18,
   "metadata": {},
   "outputs": [],
   "source": [
    "# berscore\n",
    "results = list(map(get_bertscore, df_ls))"
   ]
  },
  {
   "cell_type": "code",
   "execution_count": 18,
   "metadata": {},
   "outputs": [
    {
     "data": {
      "application/vnd.jupyter.widget-view+json": {
       "model_id": "7d629ee62ae7486f944add0bffde4de1",
       "version_major": 2,
       "version_minor": 0
      },
      "text/plain": [
       "modules.json:   0%|          | 0.00/349 [00:00<?, ?B/s]"
      ]
     },
     "metadata": {},
     "output_type": "display_data"
    },
    {
     "data": {
      "application/vnd.jupyter.widget-view+json": {
       "model_id": "56deef2d46f34662a8ed73cd71efe65b",
       "version_major": 2,
       "version_minor": 0
      },
      "text/plain": [
       "config_sentence_transformers.json:   0%|          | 0.00/116 [00:00<?, ?B/s]"
      ]
     },
     "metadata": {},
     "output_type": "display_data"
    },
    {
     "data": {
      "application/vnd.jupyter.widget-view+json": {
       "model_id": "addc31c5c6c54aaba43ed40373ef17e6",
       "version_major": 2,
       "version_minor": 0
      },
      "text/plain": [
       "README.md:   0%|          | 0.00/10.6k [00:00<?, ?B/s]"
      ]
     },
     "metadata": {},
     "output_type": "display_data"
    },
    {
     "data": {
      "application/vnd.jupyter.widget-view+json": {
       "model_id": "46584e878ece4b47a8b2501ce34ca479",
       "version_major": 2,
       "version_minor": 0
      },
      "text/plain": [
       "sentence_bert_config.json:   0%|          | 0.00/53.0 [00:00<?, ?B/s]"
      ]
     },
     "metadata": {},
     "output_type": "display_data"
    },
    {
     "name": "stderr",
     "output_type": "stream",
     "text": [
      "d:\\Program\\miniconda3\\envs\\DL\\lib\\site-packages\\huggingface_hub\\file_download.py:1132: FutureWarning: `resume_download` is deprecated and will be removed in version 1.0.0. Downloads always resume when possible. If you want to force a new download, use `force_download=True`.\n",
      "  warnings.warn(\n"
     ]
    },
    {
     "data": {
      "application/vnd.jupyter.widget-view+json": {
       "model_id": "c424759d39844abd9682f7aa94e3f072",
       "version_major": 2,
       "version_minor": 0
      },
      "text/plain": [
       "config.json:   0%|          | 0.00/571 [00:00<?, ?B/s]"
      ]
     },
     "metadata": {},
     "output_type": "display_data"
    },
    {
     "data": {
      "application/vnd.jupyter.widget-view+json": {
       "model_id": "fb675d3b6b5d4b62a32b53d387d33bbb",
       "version_major": 2,
       "version_minor": 0
      },
      "text/plain": [
       "model.safetensors:   0%|          | 0.00/438M [00:00<?, ?B/s]"
      ]
     },
     "metadata": {},
     "output_type": "display_data"
    },
    {
     "data": {
      "application/vnd.jupyter.widget-view+json": {
       "model_id": "0b1ebf03e4cb44cea53043ff22ef8e38",
       "version_major": 2,
       "version_minor": 0
      },
      "text/plain": [
       "tokenizer_config.json:   0%|          | 0.00/363 [00:00<?, ?B/s]"
      ]
     },
     "metadata": {},
     "output_type": "display_data"
    },
    {
     "data": {
      "application/vnd.jupyter.widget-view+json": {
       "model_id": "dee87700645345b3a5aec999cba4a227",
       "version_major": 2,
       "version_minor": 0
      },
      "text/plain": [
       "vocab.txt:   0%|          | 0.00/232k [00:00<?, ?B/s]"
      ]
     },
     "metadata": {},
     "output_type": "display_data"
    },
    {
     "data": {
      "application/vnd.jupyter.widget-view+json": {
       "model_id": "2187c755968449b1af63b7ea2903e23a",
       "version_major": 2,
       "version_minor": 0
      },
      "text/plain": [
       "tokenizer.json:   0%|          | 0.00/466k [00:00<?, ?B/s]"
      ]
     },
     "metadata": {},
     "output_type": "display_data"
    },
    {
     "data": {
      "application/vnd.jupyter.widget-view+json": {
       "model_id": "76f767f1ad794bef976a5635e37610ba",
       "version_major": 2,
       "version_minor": 0
      },
      "text/plain": [
       "special_tokens_map.json:   0%|          | 0.00/239 [00:00<?, ?B/s]"
      ]
     },
     "metadata": {},
     "output_type": "display_data"
    },
    {
     "data": {
      "application/vnd.jupyter.widget-view+json": {
       "model_id": "62802b67b9f74fa2bce34deea2f055d8",
       "version_major": 2,
       "version_minor": 0
      },
      "text/plain": [
       "1_Pooling/config.json:   0%|          | 0.00/190 [00:00<?, ?B/s]"
      ]
     },
     "metadata": {},
     "output_type": "display_data"
    }
   ],
   "source": [
    "# SentenceTransformer\n",
    "results = list(\n",
    "    map(\n",
    "        lambda x: sentence_transformer_score(\n",
    "            x, 'sentence-transformers/all-mpnet-base-v2'), df_ls))"
   ]
  },
  {
   "cell_type": "code",
   "execution_count": 2,
   "metadata": {},
   "outputs": [],
   "source": [
    "shots = ['zero-shot', 'one-shot', 'five-shot']\n",
    "categories = ['Llama2', 'Llama3', 'Gemma', 'Mistral']"
   ]
  },
  {
   "cell_type": "code",
   "execution_count": 19,
   "metadata": {},
   "outputs": [],
   "source": [
    "with pd.ExcelWriter('./eval/all-mpnet-base-v2.xlsx',\n",
    "                    engine='xlsxwriter') as writer:\n",
    "    for df, sheet_name in zip(results, categories):\n",
    "        df.to_excel(writer, sheet_name=sheet_name, index=False)"
   ]
  },
  {
   "cell_type": "code",
   "execution_count": null,
   "metadata": {},
   "outputs": [],
   "source": [
    "# bertscore\n",
    "shot_mean = {\n",
    "    shot: [df[f'{shot}-f1'].mean() for df in results]\n",
    "    for shot in shots\n",
    "}\n",
    "shot_full = {shot: [df[f'{shot}-f1'] for df in results] for shot in shots}"
   ]
  },
  {
   "cell_type": "code",
   "execution_count": 20,
   "metadata": {},
   "outputs": [],
   "source": [
    "# SentenceTransformer\n",
    "shot_full = {shot: [df[shot] for df in results] for shot in shots}"
   ]
  },
  {
   "cell_type": "code",
   "execution_count": 3,
   "metadata": {},
   "outputs": [],
   "source": [
    "bar_width = 0.2\n",
    "bar_pos = [\n",
    "    np.arange(len(categories)) + i * bar_width for i in range(len(shots))\n",
    "]"
   ]
  },
  {
   "cell_type": "code",
   "execution_count": 72,
   "metadata": {},
   "outputs": [
    {
     "data": {
      "text/plain": [
       "<matplotlib.legend.Legend at 0x1d03c8dfe50>"
      ]
     },
     "execution_count": 72,
     "metadata": {},
     "output_type": "execute_result"
    },
    {
     "data": {
      "image/png": "[encoded data removed]",
      "text/plain": [
       "<Figure size 1000x600 with 1 Axes>"
      ]
     },
     "metadata": {},
     "output_type": "display_data"
    }
   ],
   "source": [
    "plt.figure(figsize=(10, 6))\n",
    "for i in range(len(shots)):\n",
    "    plt.bar(bar_pos[i], shot_mean[shots[i]], bar_width, label=shots[i])\n",
    "    _ = [\n",
    "        plt.text(bar_pos[i][j],\n",
    "                 shot_mean[shots[i]][j],\n",
    "                 f\"{shot_mean[shots[i]][j]:.3f}\",\n",
    "                 ha='center',\n",
    "                 va='bottom') for j in range(len(categories))\n",
    "    ]\n",
    "plt.xticks(bar_pos[0] + bar_width, categories)\n",
    "plt.ylabel('F1')\n",
    "plt.title('BERTScore')\n",
    "plt.legend()"
   ]
  },
  {
   "cell_type": "code",
   "execution_count": 21,
   "metadata": {},
   "outputs": [
    {
     "data": {
      "image/png": "[encoded data removed]",
      "text/plain": [
       "<Figure size 1000x600 with 1 Axes>"
      ]
     },
     "metadata": {},
     "output_type": "display_data"
    }
   ],
   "source": [
    "plt.figure(figsize=(10, 6))\n",
    "legend_patches = []\n",
    "for i in range(len(shots)):\n",
    "    plt.boxplot(shot_full[shots[i]],\n",
    "                positions=bar_pos[i],\n",
    "                widths=0.15,\n",
    "                patch_artist=True,\n",
    "                boxprops=dict(facecolor=f'C{i}'),\n",
    "                medianprops=dict(color='red', linestyle='-', linewidth=1))\n",
    "    legend_patches.append(mpatches.Patch(color=f'C{i}', label=shots[i]))\n",
    "\n",
    "plt.xticks(bar_pos[0] + bar_width, categories)\n",
    "plt.ylabel('Cosine Similarity')\n",
    "plt.title('Sentence Transformer: all-mpnet-base-v2')\n",
    "plt.legend(handles=legend_patches)\n",
    "plt.savefig('./eval/all-mpnet-base-v2.png')\n",
    "plt.show()"
   ]
  },
  {
   "cell_type": "code",
   "execution_count": 16,
   "metadata": {},
   "outputs": [],
   "source": [
    "scores = pd.read_excel('./eval/human_eval_scores.xlsx', sheet_name=None)"
   ]
  },
  {
   "cell_type": "code",
   "execution_count": 17,
   "metadata": {},
   "outputs": [],
   "source": [
    "shot_mean = {\n",
    "    shot: [df[shot].mean() for df in scores.values()]\n",
    "    for shot in shots\n",
    "}"
   ]
  },
  {
   "cell_type": "code",
   "execution_count": 8,
   "metadata": {},
   "outputs": [
    {
     "data": {
      "image/png": "[encoded data removed]",
      "text/plain": [
       "<Figure size 1000x600 with 1 Axes>"
      ]
     },
     "metadata": {},
     "output_type": "display_data"
    }
   ],
   "source": [
    "plt.figure(figsize=(10, 6))\n",
    "for i in range(len(shots)):\n",
    "    plt.bar(bar_pos[i], shot_mean[shots[i]], bar_width, label=shots[i])\n",
    "    _ = [\n",
    "        plt.text(bar_pos[i][j],\n",
    "                 shot_mean[shots[i]][j],\n",
    "                 f\"{shot_mean[shots[i]][j]:.2f}\",\n",
    "                 ha='center',\n",
    "                 va='bottom') for j in range(len(categories))\n",
    "    ]\n",
    "plt.xticks(bar_pos[0] + bar_width, categories)\n",
    "plt.ylabel('Accuracy')\n",
    "plt.title('Human Evaluation')\n",
    "plt.legend(loc=\"lower center\")\n",
    "plt.savefig('./eval/human_eval.png')"
   ]
  },
  {
   "cell_type": "markdown",
   "metadata": {},
   "source": [
    "## Latex Tables"
   ]
  },
  {
   "cell_type": "code",
   "execution_count": 9,
   "metadata": {},
   "outputs": [],
   "source": [
    "bertscore_dfs = pd.read_excel('./eval/bertscore.xlsx', sheet_name=None)\n",
    "minilm_dfs = pd.read_excel('./eval/all-MiniLM-L6-v2.xlsx', sheet_name=None)\n",
    "mpnet_dfs = pd.read_excel('./eval/all-mpnet-base-v2.xlsx', sheet_name=None)"
   ]
  },
  {
   "cell_type": "code",
   "execution_count": 29,
   "metadata": {},
   "outputs": [],
   "source": [
    "median_table = defaultdict(list)\n",
    "\n",
    "for shot in shots:\n",
    "    for key in categories:\n",
    "        median_table['shot'].append(shot.split('-')[0])\n",
    "        median_table['model'].append(key)\n",
    "\n",
    "        median_table['Bertscore F1'].append(\n",
    "            bertscore_dfs[key][f'{shot}-f1'].median())\n",
    "        median_table['Sentence Transformer: all-MiniLM-L6-v2'].append(\n",
    "            minilm_dfs[key][shot].median())\n",
    "        median_table['Sentence Transformer: all-mpnet-base-v2'].append(\n",
    "            mpnet_dfs[key][shot].median())"
   ]
  },
  {
   "cell_type": "code",
   "execution_count": 30,
   "metadata": {},
   "outputs": [],
   "source": [
    "median_df = pd.DataFrame(median_table).set_index(['shot', 'model'])"
   ]
  },
  {
   "cell_type": "code",
   "execution_count": 32,
   "metadata": {},
   "outputs": [],
   "source": [
    "median_df.to_latex('./eval/median_table.tex')"
   ]
  },
  {
   "cell_type": "code",
   "execution_count": 33,
   "metadata": {},
   "outputs": [],
   "source": [
    "median_df.to_csv('./eval/median_table.csv')"
   ]
  },
  {
   "cell_type": "code",
   "execution_count": 10,
   "metadata": {},
   "outputs": [],
   "source": [
    "hv_df = pd.DataFrame(shot_mean)\n",
    "hv_df.index = categories"
   ]
  },
  {
   "cell_type": "code",
   "execution_count": 13,
   "metadata": {},
   "outputs": [
    {
     "data": {
      "text/html": [
       "<div>\n",
       "<style scoped>\n",
       "    .dataframe tbody tr th:only-of-type {\n",
       "        vertical-align: middle;\n",
       "    }\n",
       "\n",
       "    .dataframe tbody tr th {\n",
       "        vertical-align: top;\n",
       "    }\n",
       "\n",
       "    .dataframe thead th {\n",
       "        text-align: right;\n",
       "    }\n",
       "</style>\n",
       "<table border=\"1\" class=\"dataframe\">\n",
       "  <thead>\n",
       "    <tr style=\"text-align: right;\">\n",
       "      <th></th>\n",
       "      <th>zero-shot</th>\n",
       "      <th>one-shot</th>\n",
       "      <th>five-shot</th>\n",
       "    </tr>\n",
       "  </thead>\n",
       "  <tbody>\n",
       "    <tr>\n",
       "      <th>Llama2</th>\n",
       "      <td>0.76</td>\n",
       "      <td>0.84</td>\n",
       "      <td>0.86</td>\n",
       "    </tr>\n",
       "    <tr>\n",
       "      <th>Llama3</th>\n",
       "      <td>0.84</td>\n",
       "      <td>0.88</td>\n",
       "      <td>0.94</td>\n",
       "    </tr>\n",
       "    <tr>\n",
       "      <th>Gemma</th>\n",
       "      <td>0.72</td>\n",
       "      <td>0.78</td>\n",
       "      <td>0.84</td>\n",
       "    </tr>\n",
       "    <tr>\n",
       "      <th>Mistral</th>\n",
       "      <td>0.86</td>\n",
       "      <td>0.86</td>\n",
       "      <td>0.90</td>\n",
       "    </tr>\n",
       "  </tbody>\n",
       "</table>\n",
       "</div>"
      ],
      "text/plain": [
       "         zero-shot  one-shot  five-shot\n",
       "Llama2        0.76      0.84       0.86\n",
       "Llama3        0.84      0.88       0.94\n",
       "Gemma         0.72      0.78       0.84\n",
       "Mistral       0.86      0.86       0.90"
      ]
     },
     "execution_count": 13,
     "metadata": {},
     "output_type": "execute_result"
    }
   ],
   "source": [
    "hv_df.to_latex('./eval/human_eval_table.tex')"
   ]
  },
  {
   "cell_type": "code",
   "execution_count": 11,
   "metadata": {},
   "outputs": [],
   "source": [
    "hv_df.to_csv('./eval/human_eval_table.csv')"
   ]
  }
 ],
 "metadata": {
  "kernelspec": {
   "display_name": "DL",
   "language": "python",
   "name": "python3"
  },
  "language_info": {
   "codemirror_mode": {
    "name": "ipython",
    "version": 3
   },
   "file_extension": ".py",
   "mimetype": "text/x-python",
   "name": "python",
   "nbconvert_exporter": "python",
   "pygments_lexer": "ipython3",
   "version": "3.10.13"
  }
 },
 "nbformat": 4,
 "nbformat_minor": 2
}
