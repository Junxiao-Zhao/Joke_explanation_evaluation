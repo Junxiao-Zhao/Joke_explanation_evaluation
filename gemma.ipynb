{
 "cells": [
  {
   "cell_type": "code",
   "id": "initial_id",
   "metadata": {
    "collapsed": true,
    "ExecuteTime": {
     "end_time": "2024-05-30T06:08:42.154820Z",
     "start_time": "2024-05-30T06:08:39.465084Z"
    }
   },
   "source": [
    "import os\n",
    "from humanloop import Humanloop\n",
    "import pandas as pd\n",
    "HUMANLOOP_API_KEY = os.getenv(\"HUMANLOOP_API_KEY\")\n",
    "OPENAI_API_KEY = os.getenv(\"OPENAI_API_KEY\")\n",
    "\n",
    "humanloop = Humanloop(api_key=HUMANLOOP_API_KEY)\n",
    "\n",
    "test_set = pd.read_csv(r\"data/test.csv\")\n",
    "jokes = test_set[\"joke\"].tolist()\n",
    "print(len(jokes))"
   ],
   "outputs": [
    {
     "name": "stdout",
     "output_type": "stream",
     "text": [
      "50\n"
     ]
    }
   ],
   "execution_count": 1
  },
  {
   "metadata": {
    "ExecuteTime": {
     "end_time": "2024-05-30T06:09:15.364165Z",
     "start_time": "2024-05-30T06:09:15.351885Z"
    }
   },
   "cell_type": "code",
   "source": [
    "# create a result_pd that has 5 columns: joke, explanation, zero-shot, one-shot, five-shot\n",
    "result_pd = pd.DataFrame(columns=[\"joke\", \"explanation\", \"zero-shot\", \"one-shot\", \"five-shot\"])\n",
    "result_pd[\"joke\"] = jokes\n",
    "result_pd[\"explanation\"] = test_set[\"explanation\"]\n"
   ],
   "id": "6eb73c7dbfa857df",
   "outputs": [],
   "execution_count": 5
  },
  {
   "metadata": {
    "ExecuteTime": {
     "end_time": "2024-05-30T06:12:12.138646Z",
     "start_time": "2024-05-30T06:10:51.762368Z"
    }
   },
   "cell_type": "code",
   "source": [
    "# zero-shot\n",
    "result_zeroshot = []\n",
    "for joke in jokes:\n",
    "    response = humanloop.chat_deployed(\n",
    "        project=\"Petkeley\",\n",
    "        inputs={\n",
    "            \"joke\": f'{joke}'\n",
    "        },\n",
    "        messages=[]\n",
    "    )\n",
    "    result_zeroshot.append(response.data[0].output)\n"
   ],
   "id": "251fc5205cddc507",
   "outputs": [],
   "execution_count": 6
  },
  {
   "metadata": {
    "ExecuteTime": {
     "end_time": "2024-05-30T06:12:12.153928Z",
     "start_time": "2024-05-30T06:12:12.140649Z"
    }
   },
   "cell_type": "code",
   "source": [
    "print(len(result_zeroshot))\n",
    "result_pd[\"zero-shot\"] = result_zeroshot"
   ],
   "id": "948712dd49dc3eb8",
   "outputs": [
    {
     "name": "stdout",
     "output_type": "stream",
     "text": [
      "50\n"
     ]
    }
   ],
   "execution_count": 7
  },
  {
   "metadata": {
    "ExecuteTime": {
     "end_time": "2024-05-30T06:16:08.673262Z",
     "start_time": "2024-05-30T06:14:24.104481Z"
    }
   },
   "cell_type": "code",
   "source": [
    "# one-shot\n",
    "\n",
    "result_oneshot = []\n",
    "for joke in jokes:\n",
    "    response = humanloop.chat_deployed(\n",
    "        project=\"Petkeley\",\n",
    "        inputs={\n",
    "            \"joke\": f'{joke}'\n",
    "        },\n",
    "        messages=[]\n",
    "    )\n",
    "    result_oneshot.append(response.data[0].output)"
   ],
   "id": "b9140fae3e0bd517",
   "outputs": [],
   "execution_count": 9
  },
  {
   "metadata": {
    "ExecuteTime": {
     "end_time": "2024-05-30T06:16:08.688815Z",
     "start_time": "2024-05-30T06:16:08.675264Z"
    }
   },
   "cell_type": "code",
   "source": [
    "print(len(result_oneshot))\n",
    "result_pd[\"one-shot\"] = result_oneshot"
   ],
   "id": "534032610f450ade",
   "outputs": [
    {
     "name": "stdout",
     "output_type": "stream",
     "text": [
      "50\n"
     ]
    }
   ],
   "execution_count": 10
  },
  {
   "metadata": {
    "ExecuteTime": {
     "end_time": "2024-05-30T06:18:26.283686Z",
     "start_time": "2024-05-30T06:16:26.243487Z"
    }
   },
   "cell_type": "code",
   "source": [
    "# five-shot\n",
    "result_fiveshot = []\n",
    "for joke in jokes:\n",
    "    response = humanloop.chat_deployed(\n",
    "        project=\"Petkeley\",\n",
    "        inputs={\n",
    "            \"joke\": f'{joke}'\n",
    "        },\n",
    "        messages=[]\n",
    "    )\n",
    "    result_fiveshot.append(response.data[0].output)"
   ],
   "id": "f188d9bca4d187c",
   "outputs": [],
   "execution_count": 11
  },
  {
   "metadata": {
    "ExecuteTime": {
     "end_time": "2024-05-30T06:18:26.299486Z",
     "start_time": "2024-05-30T06:18:26.285853Z"
    }
   },
   "cell_type": "code",
   "source": [
    "print(len(result_fiveshot))\n",
    "result_pd[\"five-shot\"] = result_fiveshot"
   ],
   "id": "92cf666cb1de0c57",
   "outputs": [
    {
     "name": "stdout",
     "output_type": "stream",
     "text": [
      "50\n"
     ]
    }
   ],
   "execution_count": 12
  },
  {
   "metadata": {
    "ExecuteTime": {
     "end_time": "2024-05-30T06:18:26.315079Z",
     "start_time": "2024-05-30T06:18:26.300695Z"
    }
   },
   "cell_type": "code",
   "source": "result_pd.to_csv(\"data/eval-gemma.csv\", index=False)",
   "id": "873b5f18af222ce6",
   "outputs": [],
   "execution_count": 13
  }
 ],
 "metadata": {
  "kernelspec": {
   "display_name": "Python 3",
   "language": "python",
   "name": "python3"
  },
  "language_info": {
   "codemirror_mode": {
    "name": "ipython",
    "version": 2
   },
   "file_extension": ".py",
   "mimetype": "text/x-python",
   "name": "python",
   "nbconvert_exporter": "python",
   "pygments_lexer": "ipython2",
   "version": "2.7.6"
  }
 },
 "nbformat": 4,
 "nbformat_minor": 5
}
